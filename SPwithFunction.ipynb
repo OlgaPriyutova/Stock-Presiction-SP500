{
 "cells": [
  {
   "cell_type": "markdown",
   "id": "a8e68143",
   "metadata": {},
   "source": [
    "# Stock Market Prediction "
   ]
  },
  {
   "cell_type": "markdown",
   "id": "bddf2124",
   "metadata": {},
   "source": [
    "This project is an attempt to predict the stock market indicator S&P 500 Index. The Standard and Poor's 500, or simply the S&P 500, is a free-float weighted measurement stock market index of 500 of the largest companies listed on stock exchanges in the United States. It is one of the most commonly followed equity indices.\n",
    "\n",
    "We will use historical data from 1950 to 2021 on the price of the S&P500 Index to make predictions about future prices. Since stocks tend to correlate with how well the economy performs, knowing the index can also help with economic forecasts.\n",
    "\n",
    "We will use Linear Regression for our purpose, so let us import all needed libraries and functions:"
   ]
  },
  {
   "cell_type": "code",
   "execution_count": 502,
   "id": "56f7bbcd",
   "metadata": {},
   "outputs": [],
   "source": [
    "import pandas as pd\n",
    "from datetime import datetime \n",
    "from sklearn.linear_model import LinearRegression\n",
    "from sklearn.linear_model import LogisticRegression\n",
    "from sklearn.metrics import mean_squared_error\n",
    "from sklearn.metrics import mean_absolute_error\n",
    "from sklearn.metrics import r2_score"
   ]
  },
  {
   "cell_type": "markdown",
   "id": "cf87f5df",
   "metadata": {},
   "source": [
    "We will use historical data, provided by the Dataquest community and more fresh data (2015-2021) from https://finance.yahoo.com/quote/%5EGSPC/history"
   ]
  },
  {
   "cell_type": "code",
   "execution_count": 503,
   "id": "524ad099",
   "metadata": {},
   "outputs": [
    {
     "name": "stdout",
     "output_type": "stream",
     "text": [
      "            Date   Open   High    Low  Close     Volume  Adj Close\n",
      "16589 1950-01-03  16.66  16.66  16.66  16.66  1260000.0      16.66\n",
      "16588 1950-01-04  16.85  16.85  16.85  16.85  1890000.0      16.85\n",
      "16587 1950-01-05  16.93  16.93  16.93  16.93  2550000.0      16.93\n",
      "16586 1950-01-06  16.98  16.98  16.98  16.98  2010000.0      16.98\n",
      "16585 1950-01-09  17.08  17.08  17.08  17.08  2520000.0      17.08\n",
      "<class 'pandas.core.frame.DataFrame'>\n",
      "Int64Index: 16590 entries, 16589 to 0\n",
      "Data columns (total 7 columns):\n",
      " #   Column     Non-Null Count  Dtype         \n",
      "---  ------     --------------  -----         \n",
      " 0   Date       16590 non-null  datetime64[ns]\n",
      " 1   Open       16590 non-null  float64       \n",
      " 2   High       16590 non-null  float64       \n",
      " 3   Low        16590 non-null  float64       \n",
      " 4   Close      16590 non-null  float64       \n",
      " 5   Volume     16590 non-null  float64       \n",
      " 6   Adj Close  16590 non-null  float64       \n",
      "dtypes: datetime64[ns](1), float64(6)\n",
      "memory usage: 1.0 MB\n"
     ]
    }
   ],
   "source": [
    "data = pd.read_csv(\"sphist.csv\")\n",
    "dataS = pd.DataFrame(data)\n",
    "dataS['Date']=pd.to_datetime(dataS['Date'])\n",
    "dfSort = dataS.sort_values(by=['Date'], ascending=True).dropna(axis=0) \n",
    "print(dfSort.head())\n",
    "dfSort.info()"
   ]
  },
  {
   "cell_type": "code",
   "execution_count": 504,
   "id": "00b58076",
   "metadata": {},
   "outputs": [
    {
     "name": "stdout",
     "output_type": "stream",
     "text": [
      "        Date     Open     High      Low    Close      Volume  Adj Close\n",
      "0 2021-05-27  4201.94  4213.38  4197.78  4200.88  5201110000    4200.88\n",
      "1 2021-05-26  4191.59  4202.61  4184.11  4195.99  3674490000    4195.99\n",
      "2 2021-05-25  4205.94  4213.42  4182.52  4188.13  3420870000    4188.13\n",
      "3 2021-05-24  4170.16  4209.52  4170.16  4197.05  2947400000    4197.05\n",
      "4 2021-05-21  4168.61  4188.72  4151.72  4155.86  3344620000    4155.86\n",
      "<class 'pandas.core.frame.DataFrame'>\n",
      "RangeIndex: 1360 entries, 0 to 1359\n",
      "Data columns (total 7 columns):\n",
      " #   Column     Non-Null Count  Dtype         \n",
      "---  ------     --------------  -----         \n",
      " 0   Date       1360 non-null   datetime64[ns]\n",
      " 1   Open       1360 non-null   float64       \n",
      " 2   High       1360 non-null   float64       \n",
      " 3   Low        1360 non-null   float64       \n",
      " 4   Close      1360 non-null   float64       \n",
      " 5   Volume     1360 non-null   int64         \n",
      " 6   Adj Close  1360 non-null   float64       \n",
      "dtypes: datetime64[ns](1), float64(5), int64(1)\n",
      "memory usage: 74.5 KB\n"
     ]
    }
   ],
   "source": [
    "data_after2015 = pd.read_csv(\"2016_21.csv\")\n",
    "data_after2015['Date']=pd.to_datetime(data_after2015['DateU'])\n",
    "colum = dataS.columns.tolist()\n",
    "data_2021 = data_after2015[colum]\n",
    "print(data_2021.head())\n",
    "data_2021.info()"
   ]
  },
  {
   "cell_type": "markdown",
   "id": "e4404e01",
   "metadata": {},
   "source": [
    "Let us combine data from both sources and make one table from them:"
   ]
  },
  {
   "cell_type": "code",
   "execution_count": 505,
   "id": "18b35321",
   "metadata": {},
   "outputs": [
    {
     "data": {
      "text/html": [
       "<div>\n",
       "<style scoped>\n",
       "    .dataframe tbody tr th:only-of-type {\n",
       "        vertical-align: middle;\n",
       "    }\n",
       "\n",
       "    .dataframe tbody tr th {\n",
       "        vertical-align: top;\n",
       "    }\n",
       "\n",
       "    .dataframe thead th {\n",
       "        text-align: right;\n",
       "    }\n",
       "</style>\n",
       "<table border=\"1\" class=\"dataframe\">\n",
       "  <thead>\n",
       "    <tr style=\"text-align: right;\">\n",
       "      <th></th>\n",
       "      <th>Date</th>\n",
       "      <th>Open</th>\n",
       "      <th>High</th>\n",
       "      <th>Low</th>\n",
       "      <th>Close</th>\n",
       "      <th>Volume</th>\n",
       "      <th>Adj Close</th>\n",
       "    </tr>\n",
       "  </thead>\n",
       "  <tbody>\n",
       "    <tr>\n",
       "      <th>0</th>\n",
       "      <td>2015-12-07</td>\n",
       "      <td>2090.419922</td>\n",
       "      <td>2090.419922</td>\n",
       "      <td>2066.780029</td>\n",
       "      <td>2077.070068</td>\n",
       "      <td>4.043820e+09</td>\n",
       "      <td>2077.070068</td>\n",
       "    </tr>\n",
       "    <tr>\n",
       "      <th>1</th>\n",
       "      <td>2015-12-04</td>\n",
       "      <td>2051.239990</td>\n",
       "      <td>2093.840088</td>\n",
       "      <td>2051.239990</td>\n",
       "      <td>2091.689941</td>\n",
       "      <td>4.214910e+09</td>\n",
       "      <td>2091.689941</td>\n",
       "    </tr>\n",
       "    <tr>\n",
       "      <th>2</th>\n",
       "      <td>2015-12-03</td>\n",
       "      <td>2080.709961</td>\n",
       "      <td>2085.000000</td>\n",
       "      <td>2042.349976</td>\n",
       "      <td>2049.620117</td>\n",
       "      <td>4.306490e+09</td>\n",
       "      <td>2049.620117</td>\n",
       "    </tr>\n",
       "    <tr>\n",
       "      <th>3</th>\n",
       "      <td>2015-12-02</td>\n",
       "      <td>2101.709961</td>\n",
       "      <td>2104.270020</td>\n",
       "      <td>2077.110107</td>\n",
       "      <td>2079.510010</td>\n",
       "      <td>3.950640e+09</td>\n",
       "      <td>2079.510010</td>\n",
       "    </tr>\n",
       "    <tr>\n",
       "      <th>4</th>\n",
       "      <td>2015-12-01</td>\n",
       "      <td>2082.929932</td>\n",
       "      <td>2103.370117</td>\n",
       "      <td>2082.929932</td>\n",
       "      <td>2102.629883</td>\n",
       "      <td>3.712120e+09</td>\n",
       "      <td>2102.629883</td>\n",
       "    </tr>\n",
       "  </tbody>\n",
       "</table>\n",
       "</div>"
      ],
      "text/plain": [
       "        Date         Open         High          Low        Close  \\\n",
       "0 2015-12-07  2090.419922  2090.419922  2066.780029  2077.070068   \n",
       "1 2015-12-04  2051.239990  2093.840088  2051.239990  2091.689941   \n",
       "2 2015-12-03  2080.709961  2085.000000  2042.349976  2049.620117   \n",
       "3 2015-12-02  2101.709961  2104.270020  2077.110107  2079.510010   \n",
       "4 2015-12-01  2082.929932  2103.370117  2082.929932  2102.629883   \n",
       "\n",
       "         Volume    Adj Close  \n",
       "0  4.043820e+09  2077.070068  \n",
       "1  4.214910e+09  2091.689941  \n",
       "2  4.306490e+09  2049.620117  \n",
       "3  3.950640e+09  2079.510010  \n",
       "4  3.712120e+09  2102.629883  "
      ]
     },
     "execution_count": 505,
     "metadata": {},
     "output_type": "execute_result"
    }
   ],
   "source": [
    "data = pd.concat( [dataS, data_2021], axis=0)\n",
    "data.head()"
   ]
  },
  {
   "cell_type": "code",
   "execution_count": 506,
   "id": "81611dea",
   "metadata": {},
   "outputs": [
    {
     "name": "stdout",
     "output_type": "stream",
     "text": [
      "            Date       Open       High        Low      Close     Volume  \\\n",
      "16589 1950-01-03  16.660000  16.660000  16.660000  16.660000  1260000.0   \n",
      "16588 1950-01-04  16.850000  16.850000  16.850000  16.850000  1890000.0   \n",
      "16587 1950-01-05  16.930000  16.930000  16.930000  16.930000  2550000.0   \n",
      "16586 1950-01-06  16.980000  16.980000  16.980000  16.980000  2010000.0   \n",
      "16585 1950-01-09  17.080000  17.080000  17.080000  17.080000  2520000.0   \n",
      "16584 1950-01-10  17.030001  17.030001  17.030001  17.030001  2160000.0   \n",
      "16583 1950-01-11  17.090000  17.090000  17.090000  17.090000  2630000.0   \n",
      "16582 1950-01-12  16.760000  16.760000  16.760000  16.760000  2970000.0   \n",
      "16581 1950-01-13  16.670000  16.670000  16.670000  16.670000  3330000.0   \n",
      "16580 1950-01-16  16.719999  16.719999  16.719999  16.719999  1460000.0   \n",
      "\n",
      "       Adj Close  \n",
      "16589  16.660000  \n",
      "16588  16.850000  \n",
      "16587  16.930000  \n",
      "16586  16.980000  \n",
      "16585  17.080000  \n",
      "16584  17.030001  \n",
      "16583  17.090000  \n",
      "16582  16.760000  \n",
      "16581  16.670000  \n",
      "16580  16.719999  \n",
      "        Date     Open     High      Low    Close        Volume  Adj Close\n",
      "9 2021-05-14  4129.58  4183.13  4129.58  4173.85  3.251920e+09    4173.85\n",
      "8 2021-05-17  4169.92  4171.92  4142.69  4163.29  3.307130e+09    4163.29\n",
      "7 2021-05-18  4165.94  4169.15  4125.99  4127.83  3.559790e+09    4127.83\n",
      "6 2021-05-19  4098.45  4116.93  4061.41  4115.68  3.485550e+09    4115.68\n",
      "5 2021-05-20  4121.97  4172.80  4121.97  4159.12  3.019060e+09    4159.12\n",
      "4 2021-05-21  4168.61  4188.72  4151.72  4155.86  3.344620e+09    4155.86\n",
      "3 2021-05-24  4170.16  4209.52  4170.16  4197.05  2.947400e+09    4197.05\n",
      "2 2021-05-25  4205.94  4213.42  4182.52  4188.13  3.420870e+09    4188.13\n",
      "1 2021-05-26  4191.59  4202.61  4184.11  4195.99  3.674490e+09    4195.99\n",
      "0 2021-05-27  4201.94  4213.38  4197.78  4200.88  5.201110e+09    4200.88\n"
     ]
    }
   ],
   "source": [
    "data = data.sort_values(by=['Date'], ascending=True).dropna(axis=0) \n",
    "print(data.head(10))\n",
    "print(data.tail(10))"
   ]
  },
  {
   "cell_type": "code",
   "execution_count": 507,
   "id": "80e4da13",
   "metadata": {},
   "outputs": [],
   "source": [
    "df_fig = data.set_index('Date')\n"
   ]
  },
  {
   "cell_type": "code",
   "execution_count": 508,
   "id": "78fe1f7f",
   "metadata": {},
   "outputs": [
    {
     "data": {
      "text/plain": [
       "<AxesSubplot:title={'center':'Close Prices for  S&P 500 Index from 1950-2021'}, xlabel='Date'>"
      ]
     },
     "execution_count": 508,
     "metadata": {},
     "output_type": "execute_result"
    },
    {
     "data": {
      "image/png": "[encoded data removed]",
      "text/plain": [
       "<Figure size 1008x864 with 1 Axes>"
      ]
     },
     "metadata": {
      "needs_background": "light"
     },
     "output_type": "display_data"
    }
   ],
   "source": [
    "df_fig[['Close']].plot(figsize=(14,12),color='r', title = 'Close Prices for  S&P 500 Index from 1950 to Present Days')\n"
   ]
  },
  {
   "cell_type": "markdown",
   "id": "ae498aa1",
   "metadata": {},
   "source": [
    "Let us divide all data for train and test bases, the first for algorithm learning, \n",
    "the second for test and implementation of the program for prediction. \n"
   ]
  },
  {
   "cell_type": "code",
   "execution_count": 509,
   "id": "5eb350bb",
   "metadata": {},
   "outputs": [
    {
     "name": "stdout",
     "output_type": "stream",
     "text": [
      "['Open', 'High', 'Low', 'Close', 'Volume', 'Adj Close']\n"
     ]
    }
   ],
   "source": [
    "train = data[data[\"Date\"] < datetime(year=2015, month=1, day=1)]\n",
    "test = data[data[\"Date\"] >= datetime(year=2015, month=1, day=1)]\n",
    "columns = data.columns[1:].tolist()\n",
    "print(columns)"
   ]
  },
  {
   "cell_type": "markdown",
   "id": "b3fda37e",
   "metadata": {},
   "source": [
    "So, we will run the Linear Regression algorithm multiple times trying to find out the best set of entering parameters for the best prediction, \n",
    "let us write a function for it. The function returns the used parameters and the Mean Absolute Error and R2 score. "
   ]
  },
  {
   "cell_type": "code",
   "execution_count": 510,
   "id": "4929857c",
   "metadata": {},
   "outputs": [],
   "source": [
    "def LinRegEr(train,test,columns,target):\n",
    "    lr = LinearRegression()\n",
    "    lr.fit(train[columns], train[target])\n",
    "    predict = lr.predict(test[columns])\n",
    "    mse = mean_squared_error(test[target],predict)\n",
    "    mae = mean_absolute_error(test[target],predict)\n",
    "    r2 = r2_score(test[target], predict)\n",
    "    return print('If we use', columns, 'as features, the mae =', round(mae,3), ' R2 score = ', round(r2,5))"
   ]
  },
  {
   "cell_type": "markdown",
   "id": "d6a1ea5a",
   "metadata": {},
   "source": [
    "Let us generate more indicators for further prediction: average, and standard deviation for the last 5, 30, and 356 days.\n",
    "The following mean and Standard Deviation functions use data in the row and the rows above, so let us shift \n",
    "the data in columns, so that the current value does not be included in the calculation of average parameters. \n"
   ]
  },
  {
   "cell_type": "code",
   "execution_count": 511,
   "id": "652bac2e",
   "metadata": {},
   "outputs": [
    {
     "name": "stdout",
     "output_type": "stream",
     "text": [
      "            Date   Open   High    Low  Close     Volume  Adj Close\n",
      "16589 1950-01-03    NaN    NaN    NaN    NaN        NaN        NaN\n",
      "16588 1950-01-04  16.66  16.66  16.66  16.66  1260000.0      16.66\n",
      "16587 1950-01-05  16.85  16.85  16.85  16.85  1890000.0      16.85\n",
      "16586 1950-01-06  16.93  16.93  16.93  16.93  2550000.0      16.93\n",
      "16585 1950-01-09  16.98  16.98  16.98  16.98  2010000.0      16.98\n"
     ]
    }
   ],
   "source": [
    "df_Shift = data.copy()\n",
    "df_Shift[columns] = df_Shift[columns].shift(periods=1, freq=None, axis=0)\n",
    "print(df_Shift.head())"
   ]
  },
  {
   "cell_type": "markdown",
   "id": "6f06a35c",
   "metadata": {},
   "source": [
    "The functions of average mean and standard deviation using the number of days as input value:"
   ]
  },
  {
   "cell_type": "code",
   "execution_count": 512,
   "id": "0e848806",
   "metadata": {},
   "outputs": [],
   "source": [
    "def aver(n,col):\n",
    "    ns = str(n)\n",
    "    df_Shift['Av_'+ns+' '+col] =df_Shift[col].rolling(window=n).mean()\n",
    "    return df_Shift"
   ]
  },
  {
   "cell_type": "code",
   "execution_count": 513,
   "id": "b516d7c7",
   "metadata": {},
   "outputs": [],
   "source": [
    "def Std(n,col):\n",
    "    ns = str(n)\n",
    "    df_Shift['Std_'+ns+' '+col] =df_Shift[col].rolling(window=n).std()\n",
    "    return df_Shift"
   ]
  },
  {
   "cell_type": "markdown",
   "id": "c73ac00d",
   "metadata": {},
   "source": [
    "Let us implement these functions for our shifted table:"
   ]
  },
  {
   "cell_type": "code",
   "execution_count": 514,
   "id": "ac7bc831",
   "metadata": {},
   "outputs": [],
   "source": [
    "for n in [5,30,365]:\n",
    "    for col in ['Close','Volume']:\n",
    "        aver(n,col)"
   ]
  },
  {
   "cell_type": "code",
   "execution_count": 515,
   "id": "d3449ba5",
   "metadata": {},
   "outputs": [],
   "source": [
    "for n in [5,365]:\n",
    "    for col in ['Close','Volume']:\n",
    "        Std(n,col)"
   ]
  },
  {
   "cell_type": "markdown",
   "id": "fbf91c7a",
   "metadata": {},
   "source": [
    "We can try to use other indicators, for example, the ratios of rolling values for 5 days to the same indicator for a whole year:"
   ]
  },
  {
   "cell_type": "code",
   "execution_count": 516,
   "id": "289fae37",
   "metadata": {},
   "outputs": [],
   "source": [
    "df_Shift['Av5to365']=df_Shift['Av_5 Close']/df_Shift['Av_365 Close']\n",
    "df_Shift['Std5to365']=df_Shift['Std_5 Close']/df_Shift['Std_365 Close']"
   ]
  },
  {
   "cell_type": "markdown",
   "id": "664ba6e0",
   "metadata": {},
   "source": [
    "Now, when we calculated the indicators, let us shift the Date column to return data to the initial state,\n",
    "but with new indicators added. \n"
   ]
  },
  {
   "cell_type": "code",
   "execution_count": 517,
   "id": "21a0e4f4",
   "metadata": {
    "scrolled": true
   },
   "outputs": [
    {
     "name": "stdout",
     "output_type": "stream",
     "text": [
      "            Date   Open   High    Low  Close     Volume  Adj Close  \\\n",
      "16589        NaT    NaN    NaN    NaN    NaN        NaN        NaN   \n",
      "16588 1950-01-03  16.66  16.66  16.66  16.66  1260000.0      16.66   \n",
      "\n",
      "       Av_5 Close  Av_5 Volume  Av_30 Close  Av_30 Volume  Av_365 Close  \\\n",
      "16589         NaN          NaN          NaN           NaN           NaN   \n",
      "16588         NaN          NaN          NaN           NaN           NaN   \n",
      "\n",
      "       Av_365 Volume  Std_5 Close  Std_5 Volume  Std_365 Close  \\\n",
      "16589            NaN          NaN           NaN            NaN   \n",
      "16588            NaN          NaN           NaN            NaN   \n",
      "\n",
      "       Std_365 Volume  Av5to365  Std5to365  \n",
      "16589             NaN       NaN        NaN  \n",
      "16588             NaN       NaN        NaN  \n"
     ]
    }
   ],
   "source": [
    "df_Shift['Date'] = df_Shift['Date'].shift(periods=1, freq=None, axis=0)\n",
    "print(df_Shift.head(2))"
   ]
  },
  {
   "cell_type": "code",
   "execution_count": 518,
   "id": "2df78e8b",
   "metadata": {},
   "outputs": [],
   "source": [
    "df_Ready= df_Shift.copy()\n",
    "df_fig = df_Ready[df_Ready['Date'] >= datetime(year=1980, month=1, day=1)]\n",
    "df_fig = df_fig.set_index('Date')\n"
   ]
  },
  {
   "cell_type": "markdown",
   "id": "979e5bf8",
   "metadata": {},
   "source": [
    "The picture of Closing Prices and its Moving Average for the previous year:   "
   ]
  },
  {
   "cell_type": "code",
   "execution_count": 519,
   "id": "6b1f32fc",
   "metadata": {},
   "outputs": [
    {
     "data": {
      "text/plain": [
       "<AxesSubplot:xlabel='Date'>"
      ]
     },
     "execution_count": 519,
     "metadata": {},
     "output_type": "execute_result"
    },
    {
     "data": {
      "image/png": "[encoded data removed]",
      "text/plain": [
       "<Figure size 720x576 with 1 Axes>"
      ]
     },
     "metadata": {
      "needs_background": "light"
     },
     "output_type": "display_data"
    }
   ],
   "source": [
    "df_fig[['Close','Av_365 Close']].plot(figsize=(10,8))"
   ]
  },
  {
   "cell_type": "markdown",
   "id": "dc1b9750",
   "metadata": {},
   "source": [
    "The Picture of Sales Volume and its moving average for last year:"
   ]
  },
  {
   "cell_type": "code",
   "execution_count": 520,
   "id": "27f52960",
   "metadata": {},
   "outputs": [
    {
     "data": {
      "text/plain": [
       "<AxesSubplot:xlabel='Date'>"
      ]
     },
     "execution_count": 520,
     "metadata": {},
     "output_type": "execute_result"
    },
    {
     "data": {
      "image/png": "[encoded data removed]",
      "text/plain": [
       "<Figure size 720x576 with 1 Axes>"
      ]
     },
     "metadata": {
      "needs_background": "light"
     },
     "output_type": "display_data"
    }
   ],
   "source": [
    "df_fig[['Volume', 'Av_365 Volume']].plot(figsize=(10,8))"
   ]
  },
  {
   "cell_type": "markdown",
   "id": "4b99f163",
   "metadata": {},
   "source": [
    "So, we use the data to calculate the average for a whole year before, we have sufficient data for it starting from 1951.\n",
    "\n",
    "Let us add columns with info on the day, month, and year. \n",
    "It could help us take into account the seasonability when the algorithm will make a prediction. "
   ]
  },
  {
   "cell_type": "code",
   "execution_count": 521,
   "id": "e376b599",
   "metadata": {},
   "outputs": [],
   "source": [
    "df = df_Ready[df_Ready[\"Date\"] > datetime(year=1951, month=1, day=2)].dropna(axis=0)\n",
    "df['D_Day']=df['Date'].dt.day\n",
    "df['D_Month']=df['Date'].dt.month\n",
    "df['D_Year']=df['Date'].dt.year\n"
   ]
  },
  {
   "cell_type": "markdown",
   "id": "b76e161a",
   "metadata": {},
   "source": [
    "Our goal is to predict Close prices, so let us remove Close columns from the list of entering parameters:"
   ]
  },
  {
   "cell_type": "code",
   "execution_count": 522,
   "id": "da5fdbc0",
   "metadata": {},
   "outputs": [
    {
     "name": "stdout",
     "output_type": "stream",
     "text": [
      "['Date', 'Open', 'High', 'Low', 'Volume', 'Av_5 Close', 'Av_5 Volume', 'Av_30 Close', 'Av_30 Volume', 'Av_365 Close', 'Av_365 Volume', 'Std_5 Close', 'Std_5 Volume', 'Std_365 Close', 'Std_365 Volume', 'Av5to365', 'Std5to365', 'D_Day', 'D_Month', 'D_Year']\n"
     ]
    }
   ],
   "source": [
    "columns = df.columns.tolist()\n",
    "columns.remove('Close')\n",
    "columns.remove('Adj Close')\n",
    "print(columns)"
   ]
  },
  {
   "cell_type": "code",
   "execution_count": 523,
   "id": "1d5da179",
   "metadata": {},
   "outputs": [],
   "source": [
    "train =df[df[\"Date\"] < datetime(year=2015, month=1, day=1)]\n",
    "test = df[df[\"Date\"] >= datetime(year=2015, month=1, day=1)]"
   ]
  },
  {
   "cell_type": "code",
   "execution_count": 524,
   "id": "6e8b2946",
   "metadata": {},
   "outputs": [
    {
     "name": "stdout",
     "output_type": "stream",
     "text": [
      "['Open', 'High', 'Low', 'Volume']\n",
      "['Open', 'High', 'Low', 'Volume', 'Av_5 Close', 'Av_5 Volume', 'Av_30 Close', 'Av_30 Volume', 'Av_365 Close', 'Av_365 Volume', 'Std_5 Close', 'Std_5 Volume', 'Std_365 Close', 'Std_365 Volume', 'Av5to365', 'Std5to365', 'D_Day', 'D_Month', 'D_Year']\n"
     ]
    }
   ],
   "source": [
    "col_initial = columns[1:5]\n",
    "print(col_initial)\n",
    "col_all=columns[1:]\n",
    "print(coll_all)"
   ]
  },
  {
   "cell_type": "markdown",
   "id": "d4def199",
   "metadata": {},
   "source": [
    "Predictions using Initial data only, initial data+calculated parameters, and calculated parameters only:"
   ]
  },
  {
   "cell_type": "code",
   "execution_count": 525,
   "id": "60092140",
   "metadata": {},
   "outputs": [
    {
     "name": "stdout",
     "output_type": "stream",
     "text": [
      "If we use ['Open', 'High', 'Low', 'Volume'] as features, the mae = 6.454  R2 score =  0.99966\n"
     ]
    }
   ],
   "source": [
    "LinRegEr(train,test,col_initial,'Close')"
   ]
  },
  {
   "cell_type": "code",
   "execution_count": 526,
   "id": "1f5ace90",
   "metadata": {},
   "outputs": [
    {
     "name": "stdout",
     "output_type": "stream",
     "text": [
      "If we use ['Open', 'High', 'Low', 'Volume', 'Av_5 Close', 'Av_5 Volume', 'Av_30 Close', 'Av_30 Volume', 'Av_365 Close', 'Av_365 Volume', 'Std_5 Close', 'Std_5 Volume', 'Std_365 Close', 'Std_365 Volume', 'Av5to365', 'Std5to365', 'D_Day', 'D_Month', 'D_Year'] as features, the mae = 6.361  R2 score =  0.99967\n"
     ]
    }
   ],
   "source": [
    "LinRegEr(train,test, col_all,'Close')"
   ]
  },
  {
   "cell_type": "code",
   "execution_count": 527,
   "id": "b5b00137",
   "metadata": {},
   "outputs": [
    {
     "name": "stdout",
     "output_type": "stream",
     "text": [
      "If we use ['Av_5 Close', 'Av_5 Volume', 'Av_30 Close', 'Av_30 Volume', 'Av_365 Close', 'Av_365 Volume', 'Std_5 Close', 'Std_5 Volume', 'Std_365 Close', 'Std_365 Volume', 'Av5to365', 'Std5to365', 'D_Day', 'D_Month', 'D_Year'] as features, the mae = 19.836  R2 score =  0.9969\n"
     ]
    }
   ],
   "source": [
    "LinRegEr(train,test,col_with_param,'Close')"
   ]
  },
  {
   "cell_type": "markdown",
   "id": "a9ecf8b2",
   "metadata": {},
   "source": [
    "As we can see, the highest accuracy we gain when we used all initial columns with all calculated indicators columns. \n",
    "Let us try to combine parameters trying to reduce the error of prediction even more. \n",
    "We will write a function for choosing parameters using different keywords (regular expressions):"
   ]
  },
  {
   "cell_type": "code",
   "execution_count": 528,
   "id": "79f84313",
   "metadata": {},
   "outputs": [],
   "source": [
    "def choose_feat(listc, regex):\n",
    "    features = []\n",
    "    for k in listc:\n",
    "        k =str(k)\n",
    "        if regex in k:\n",
    "                features.append(k)\n",
    "    return features\n",
    "    "
   ]
  },
  {
   "cell_type": "markdown",
   "id": "d6eabc46",
   "metadata": {},
   "source": [
    "and implement this function for getting different sets of initial columns:"
   ]
  },
  {
   "cell_type": "code",
   "execution_count": 529,
   "id": "c1ba78e3",
   "metadata": {},
   "outputs": [],
   "source": [
    "p1 = choose_feat(col_all, 'Av_')"
   ]
  },
  {
   "cell_type": "code",
   "execution_count": 530,
   "id": "4837415e",
   "metadata": {},
   "outputs": [],
   "source": [
    "p2 = choose_feat(col_all, 'Std_')\n",
    "p3 = choose_feat(col_all, 'Volume')\n",
    "p4 = choose_feat(col_all, '5to365')\n",
    "p5 = choose_feat(col_all, '365')\n",
    "\n",
    "p6 = choose_feat(col_all, '_5')\n",
    "\n",
    "p7 = choose_feat(col_all, '30')\n",
    "p8=choose_feat(col_all, 'D_')"
   ]
  },
  {
   "cell_type": "markdown",
   "id": "19c451a9",
   "metadata": {},
   "source": [
    "Let try these different sets for choosing optimal enter parameters:"
   ]
  },
  {
   "cell_type": "code",
   "execution_count": 531,
   "id": "5fc48f4f",
   "metadata": {},
   "outputs": [
    {
     "name": "stdout",
     "output_type": "stream",
     "text": [
      "If we use ['Av_5 Close', 'Av_5 Volume', 'Av_30 Close', 'Av_30 Volume', 'Av_365 Close', 'Av_365 Volume'] as features, the mae = 19.604  R2 score =  0.99689\n",
      "If we use ['Std_5 Close', 'Std_5 Volume', 'Std_365 Close', 'Std_365 Volume'] as features, the mae = 1079.994  R2 score =  -3.32099\n",
      "If we use ['Volume', 'Av_5 Volume', 'Av_30 Volume', 'Av_365 Volume', 'Std_5 Volume', 'Std_365 Volume'] as features, the mae = 1013.334  R2 score =  -5.25998\n",
      "If we use ['Av5to365', 'Std5to365'] as features, the mae = 2180.941  R2 score =  -15.52799\n",
      "If we use ['Av_365 Close', 'Av_365 Volume', 'Std_365 Close', 'Std_365 Volume', 'Av5to365', 'Std5to365'] as features, the mae = 159.259  R2 score =  0.78295\n",
      "If we use ['Av_5 Close', 'Av_5 Volume', 'Std_5 Close', 'Std_5 Volume'] as features, the mae = 20.134  R2 score =  0.99688\n",
      "If we use ['Av_30 Close', 'Av_30 Volume'] as features, the mae = 55.784  R2 score =  0.97483\n",
      "If we use ['D_Day', 'D_Month', 'D_Year'] as features, the mae = 1327.855  R2 score =  -5.60815\n"
     ]
    }
   ],
   "source": [
    "\n",
    "for p in [p1,p2,p3,p4,p5,p6,p7,p8]:\n",
    "    LinRegEr(train,test,p,'Close')\n",
    "    "
   ]
  },
  {
   "cell_type": "markdown",
   "id": "78b9790c",
   "metadata": {},
   "source": [
    "The other approach to choose the optimal parameters is to look at correlation between different columns and choose to best correlated with target Close column:"
   ]
  },
  {
   "cell_type": "code",
   "execution_count": 532,
   "id": "835831a7",
   "metadata": {},
   "outputs": [
    {
     "data": {
      "text/plain": [
       "Open              0.999924\n",
       "High              0.999960\n",
       "Low               0.999963\n",
       "Close             1.000000\n",
       "Volume            0.801964\n",
       "Adj Close         1.000000\n",
       "Av_5 Close        0.999889\n",
       "Av_5 Volume       0.811289\n",
       "Av_30 Close       0.999199\n",
       "Av_30 Volume      0.820283\n",
       "Av_365 Close      0.992883\n",
       "Av_365 Volume     0.824022\n",
       "Std_5 Close       0.682917\n",
       "Std_5 Volume      0.617118\n",
       "Std_365 Close     0.863295\n",
       "Std_365 Volume    0.750197\n",
       "Av5to365          0.095018\n",
       "Std5to365         0.094878\n",
       "D_Day            -0.001092\n",
       "D_Month          -0.010320\n",
       "D_Year            0.847276\n",
       "Name: Close, dtype: float64"
      ]
     },
     "execution_count": 532,
     "metadata": {},
     "output_type": "execute_result"
    }
   ],
   "source": [
    "df.corr()['Close']"
   ]
  },
  {
   "cell_type": "code",
   "execution_count": 533,
   "id": "ab2cdd22",
   "metadata": {},
   "outputs": [
    {
     "name": "stdout",
     "output_type": "stream",
     "text": [
      "['Date', 'Open', 'High', 'Low', 'Close', 'Volume', 'Adj Close', 'Av_5 Close', 'Av_5 Volume', 'Av_30 Close', 'Av_30 Volume', 'Av_365 Close', 'Av_365 Volume', 'Std_5 Close', 'Std_5 Volume', 'Std_365 Close', 'Std_365 Volume', 'Av5to365', 'Std5to365', 'D_Day', 'D_Month', 'D_Year']\n"
     ]
    }
   ],
   "source": [
    "param = df.columns.tolist()\n",
    "print(param)"
   ]
  },
  {
   "cell_type": "markdown",
   "id": "067be7f2",
   "metadata": {},
   "source": [
    "Our goal is predict Close prices, so let us remove Close columns from the list of enter parameters:"
   ]
  },
  {
   "cell_type": "code",
   "execution_count": 534,
   "id": "de3da231",
   "metadata": {},
   "outputs": [
    {
     "name": "stdout",
     "output_type": "stream",
     "text": [
      "If we use ['Open', 'High', 'Low', 'Av_5 Close', 'Av_30 Close', 'Av_365 Close', 'D_Year'] as features, the mae = 6.316  R2 score =  0.99967\n"
     ]
    }
   ],
   "source": [
    "par1 = ['Open','High', 'Low', 'Av_5 Close', 'Av_30 Close', 'Av_365 Close','D_Year']\n",
    "LinRegEr(train,test,par1,'Close')"
   ]
  },
  {
   "cell_type": "code",
   "execution_count": 535,
   "id": "8e473e91",
   "metadata": {},
   "outputs": [
    {
     "name": "stdout",
     "output_type": "stream",
     "text": [
      "If we use ['Open', 'High', 'Low', 'Av_5 Close', 'Av_5 Volume', 'Av_30 Close', 'D_Year'] as features, the mae = 6.312  R2 score =  0.99967\n"
     ]
    }
   ],
   "source": [
    "par2 = ['Open', 'High', 'Low', 'Av_5 Close', 'Av_5 Volume', 'Av_30 Close', 'D_Year']\n",
    "LinRegEr(train,test,par2,'Close')"
   ]
  },
  {
   "cell_type": "code",
   "execution_count": 536,
   "id": "b64b8370",
   "metadata": {},
   "outputs": [
    {
     "name": "stdout",
     "output_type": "stream",
     "text": [
      "If we use ['Open', 'High', 'Low', 'Volume', 'Av_5 Close', 'Av_30 Close'] as features, the mae = 6.301  R2 score =  0.99967\n"
     ]
    }
   ],
   "source": [
    "par3 = ['Open', 'High', 'Low', 'Volume', 'Av_5 Close', 'Av_30 Close']\n",
    "LinRegEr(train,test,par3,'Close')"
   ]
  },
  {
   "cell_type": "code",
   "execution_count": 537,
   "id": "34c7d877",
   "metadata": {},
   "outputs": [],
   "source": [
    "par4 = ['Open', 'High', 'Low', 'Av_5 Close', 'Av_30 Close']"
   ]
  },
  {
   "cell_type": "code",
   "execution_count": 538,
   "id": "afcc6ba8",
   "metadata": {},
   "outputs": [
    {
     "name": "stdout",
     "output_type": "stream",
     "text": [
      "If we use ['Open', 'High', 'Low', 'Av_5 Close', 'Av_30 Close'] as features, the mae = 6.302  R2 score =  0.99967\n"
     ]
    }
   ],
   "source": [
    "LinRegEr(train,test,par4,'Close')"
   ]
  },
  {
   "cell_type": "markdown",
   "id": "cf43109a",
   "metadata": {},
   "source": [
    "We can get even better result if we split the initidal data in the ratio 7:1 for training and testing puprose, \n",
    "and start our test prediction from 2010, not 2015:\n",
    "        "
   ]
  },
  {
   "cell_type": "code",
   "execution_count": 540,
   "id": "d863a6fe",
   "metadata": {},
   "outputs": [
    {
     "name": "stdout",
     "output_type": "stream",
     "text": [
      "If we use ['Open', 'High', 'Low', 'Av_5 Close', 'Av_30 Close'] as features, the mae = 5.176  R2 score =  0.99988\n"
     ]
    }
   ],
   "source": [
    "train =df[df[\"Date\"] < datetime(year=2010, month=1, day=1)]\n",
    "test = df[df[\"Date\"] >= datetime(year=2010, month=1, day=1)]\n",
    "par5 = ['Open', 'High', 'Low', 'Av_5 Close', 'Av_30 Close'] \n",
    "LinRegEr(train,test,par5,'Close')"
   ]
  },
  {
   "cell_type": "markdown",
   "id": "c38db9e4",
   "metadata": {},
   "source": [
    "# Summary"
   ]
  },
  {
   "cell_type": "markdown",
   "id": "cb9e44f7",
   "metadata": {},
   "source": [
    "In this project, the linear regression model was used for the prediction of S&P 500 Indicators. \n",
    "\n",
    "The data from 1950 to the present date was used. \n",
    "I can make a prediction using the initial columns only, but the result is better if we input some indicators as moving average and standard deviation for the last  5, 30, and 365 years, and ratios of these indicators for 5 days to whole years. \n",
    "\n",
    "We have found the optimal ratio to make a prediction is to divide the initial data in ratio 7:1, and the optimal amount of parameters to minimize the error. \n",
    "\n",
    "But using the 'optimal' parameters leads to overfitting the model, and I can recommend using all the above-mentioned parameters to make a prediction.  "
   ]
  }
 ],
 "metadata": {
  "kernelspec": {
   "display_name": "Python 3",
   "language": "python",
   "name": "python3"
  },
  "language_info": {
   "codemirror_mode": {
    "name": "ipython",
    "version": 3
   },
   "file_extension": ".py",
   "mimetype": "text/x-python",
   "name": "python",
   "nbconvert_exporter": "python",
   "pygments_lexer": "ipython3",
   "version": "3.8.8"
  }
 },
 "nbformat": 4,
 "nbformat_minor": 5
}
